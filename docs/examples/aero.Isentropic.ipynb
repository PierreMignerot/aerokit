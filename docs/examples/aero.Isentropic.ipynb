{
 "cells": [
  {
   "cell_type": "code",
   "execution_count": null,
   "id": "applied-depth",
   "metadata": {},
   "outputs": [],
   "source": [
    "import aerokit.aero.Isentropic as Is"
   ]
  },
  {
   "cell_type": "markdown",
   "id": "institutional-split",
   "metadata": {},
   "source": [
    "What are the pressure and temperature at the stagnation point in front of a subsonic upstream flow with $M_0=0.8$,  and respective $10^5$ Pa and $280$ K?"
   ]
  },
  {
   "cell_type": "code",
   "execution_count": null,
   "id": "complete-jurisdiction",
   "metadata": {},
   "outputs": [],
   "source": [
    "M0=0.8\n",
    "Pstag = 1.e5 * Is.PiPs_Mach(M0)\n",
    "Tstag = 280. * Is.TiTs_Mach(M0)\n",
    "print(\"Stagnation pressure and temperature are {:.4e} Pa and {:.2f} K\".format(Pstag, Tstag))"
   ]
  }
 ],
 "metadata": {
  "kernelspec": {
   "display_name": "Python 3",
   "language": "python",
   "name": "python3"
  },
  "language_info": {
   "codemirror_mode": {
    "name": "ipython",
    "version": 3
   },
   "file_extension": ".py",
   "mimetype": "text/x-python",
   "name": "python",
   "nbconvert_exporter": "python",
   "pygments_lexer": "ipython3",
   "version": "3.9.1"
  }
 },
 "nbformat": 4,
 "nbformat_minor": 5
}