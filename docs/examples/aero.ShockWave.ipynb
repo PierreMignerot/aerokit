{
  "nbformat": 4,
  "nbformat_minor": 5,
  "metadata": {
    "kernelspec": {
      "display_name": "Python 3",
      "language": "python",
      "name": "python3"
    },
    "language_info": {
      "codemirror_mode": {
        "name": "ipython",
        "version": 3
      },
      "file_extension": ".py",
      "mimetype": "text/x-python",
      "name": "python",
      "nbconvert_exporter": "python",
      "pygments_lexer": "ipython3",
      "version": "3.9.1"
    },
    "colab": {
      "name": "Shock-21-reflexion.ipynb",
      "provenance": []
    }
  },
  "cells": [
    {
      "cell_type": "markdown",
      "metadata": {
        "id": "sorted-archive"
      },
      "source": [
        "# Rankine-Hugoniot, Shock Waves and Wall Reflexion\n",
        "\n",
        "The current notebook aims at computing attached shock wave and reflexions on walls."
      ],
      "id": "sorted-archive"
    },
    {
      "cell_type": "code",
      "metadata": {
        "id": "nearby-heaven"
      },
      "source": [
        "import numpy as np\n",
        "import matplotlib.pyplot as plt\n",
        "from aerokit.common import defaultgas\n",
        "from aerokit.aero import degree    as deg # import trigo functions with degree unit support\n",
        "from aerokit.aero import ShockWave as sw  # import functions for shockwave computation\n",
        "%matplotlib inline"
      ],
      "id": "nearby-heaven",
      "execution_count": null,
      "outputs": []
    },
    {
      "cell_type": "markdown",
      "metadata": {
        "id": "canadian-respondent"
      },
      "source": [
        "First, fluid definition ($\\gamma$) and upstream conditions are defined. A function is also defined to plot the geometry."
      ],
      "id": "canadian-respondent"
    },
    {
      "cell_type": "code",
      "metadata": {
        "scrolled": false,
        "colab": {
          "base_uri": "https://localhost:8080/",
          "height": 252
        },
        "id": "ranging-explorer",
        "outputId": "7cde51bb-f8db-4476-f32e-644857263522"
      },
      "source": [
        "# definition of problem parameters\n",
        "gam  = 1.4 ; defaultgas.set_gamma(gam)\n",
        "M0   = 2.8\n",
        "wdev = 18.\n",
        "print(\"wall deviation  (deg): {} with upwstream Mach number {}\".format(wdev, M0))\n",
        "\n",
        "# function to plot the geometry\n",
        "#\n",
        "def plot_geom(xneg=-.5, length=2., dev=wdev, zoom=1):\n",
        "    fig = plt.figure(figsize=(14*zoom,8*zoom))\n",
        "    ax  = fig.add_subplot(111) \n",
        "    #plt.axis([xneg, length])\n",
        "    ax.set(aspect=\"equal\", xlim=[xneg, length], ylim=[-.1, 1.1])\n",
        "    plt.plot([xneg, length],    [1, 1],                      color=\"black\", linewidth=2)\n",
        "    plt.plot([xneg, 0, length], [0, 0, length*deg.tan(dev)], color=\"black\", linewidth=2)\n",
        "#\n",
        "# test de la fonction de tracé   \n",
        "plot_geom(dev=wdev, zoom=.5)"
      ],
      "id": "ranging-explorer",
      "execution_count": null,
      "outputs": []
    },
    {
      "cell_type": "markdown",
      "metadata": {
        "id": "occupied-serum"
      },
      "source": [
        "## First attached shock wave\n",
        "\n",
        "Using `aerokit.aero.ShockWave` module, one can check the maximum allowed deviation for this upstream Mach number (either sonic or max deviation limit). Then, the shock angle $\\sigma$ is computed, followed by the normal Mach number and all ratios of quantities.\n",
        "\n"
      ],
      "id": "occupied-serum"
    },
    {
      "cell_type": "code",
      "metadata": {
        "colab": {
          "base_uri": "https://localhost:8080/"
        },
        "id": "proper-mixture",
        "outputId": "40d46fcd-9329-49fa-c9c3-485b4595314a"
      },
      "source": [
        "devmax   = sw.dev_Max(M0)\n",
        "devsonic = sw.dev_Sonic(M0)\n",
        "print((\"For upstream Mach number M0= {:1.4},\\n* maximum deviation is {:1.4}°\\n\"+\n",
        "      \"* limit for downstream supersonic flow is {:1.4}°\").format(M0, devmax, devsonic))"
      ],
      "id": "proper-mixture",
      "execution_count": null,
      "outputs": []
    },
    {
      "cell_type": "code",
      "metadata": {
        "colab": {
          "base_uri": "https://localhost:8080/"
        },
        "id": "covered-promise",
        "outputId": "056b9f65-00eb-476e-9746-dcc9916f531e"
      },
      "source": [
        "sig1 = sw.sigma_Mach_deflection(M0, wdev)\n",
        "Mn0  = M0*deg.sin(sig1)\n",
        "p1p0 = sw.Ps_ratio(Mn0)\n",
        "Mn1  = sw.downstream_Mn(Mn0)\n",
        "M1   = Mn1/deg.sin(sig1-wdev)\n",
        "print(\"shock with {:1.4}° deviation and angle {:1.4}\\ndownstream Mach number is M1= {:1.4}\\nCompression ratio   is p1/p0= {:1.4}\".format(wdev, sig1, M1, p1p0))"
      ],
      "id": "covered-promise",
      "execution_count": null,
      "outputs": []
    },
    {
      "cell_type": "markdown",
      "metadata": {
        "id": "obvious-devices"
      },
      "source": [
        "## Shock reflexion\n",
        "\n",
        "Again, existence of reflected shock is checked before computing $\\sigma_2$. Then, the reflected shock wave is computed and downstream state 3.\n"
      ],
      "id": "obvious-devices"
    },
    {
      "cell_type": "code",
      "metadata": {
        "colab": {
          "base_uri": "https://localhost:8080/"
        },
        "id": "incoming-needle",
        "outputId": "df4dee7d-6c57-4f44-e4fd-482d21f3a284"
      },
      "source": [
        "devmax   = sw.dev_Max(M1)\n",
        "if wdev > devmax:\n",
        "  print(\"no attached solution, the reflexion will be irregular\")\n",
        "  # if irregular reflexion, assume that reflected shock wave is at downstream sonic limit\n",
        "  sig2 = sw.sigma_Sonic(M1)  \n",
        "else:\n",
        "  sig2 = sw.sigma_Mach_deflection(M1, wdev)\n",
        "Mn1  = M1*deg.sin(sig2)\n",
        "p2p1 = sw.Ps_ratio(Mn1)\n",
        "Mn2  = sw.downstream_Mn(Mn1)\n",
        "M2   = Mn2/deg.sin(sig2-wdev)\n",
        "print(\"shock reflexion with {:1.4}° deviation and angle {:1.4}° (max deviation is {:1.4}°)\".format(wdev, sig2, devmax))\n",
        "print(\"downstream Mach number is M2= {:1.4}\\nCompression ratio   is p2/p1= {:1.4}\".format(M2, p2p1))\n",
        "p2p0 = p2p1*p1p0"
      ],
      "id": "incoming-needle",
      "execution_count": null,
      "outputs": []
    },
    {
      "cell_type": "markdown",
      "metadata": {
        "id": "4jzeB6l4MCcU"
      },
      "source": [
        "All geometric angles are available to draw the shocks solution (the reflexion is assumed **regular**)."
      ],
      "id": "4jzeB6l4MCcU"
    },
    {
      "cell_type": "code",
      "metadata": {
        "colab": {
          "base_uri": "https://localhost:8080/",
          "height": 365
        },
        "id": "domestic-steam",
        "outputId": "fa99a906-3d62-4327-975c-3f887a261c63"
      },
      "source": [
        "yend=.75 # parameter to draw reflected shock\n",
        "plot_geom(dev=wdev, zoom=.8)\n",
        "xup  = 1./deg.tan(sig1)                     # impact of first shock on top wall\n",
        "xbot = xup + (1.-yend)/deg.tan(sig2-wdev)   # abscissa of reflected shock at yend\n",
        "plt.plot([0, xup, xbot], \n",
        "         [0,   1, yend], 'red', linewidth=2)"
      ],
      "id": "domestic-steam",
      "execution_count": null,
      "outputs": []
    },
    {
      "cell_type": "markdown",
      "metadata": {
        "id": "union-blood"
      },
      "source": [
        "## Representation in the shock polar $\\theta/p$\n",
        "\n",
        "The black line is the polar curve which depends on $M_0$. The solution of the shock wave is at $\\theta=\\mbox{wdev}$. From this point, the new polar curve for $M_1$ (in red) is drawn ; the deviation is negative up to $\\theta=0$. If this intersection exists, the shock reflexion is regular and the solution is state 0. The last curve in blue is the polar curve for $M_2$ which may not reach the wall deviation. "
      ],
      "id": "union-blood"
    },
    {
      "cell_type": "code",
      "metadata": {
        "colab": {
          "base_uri": "https://localhost:8080/",
          "height": 543
        },
        "id": "brave-conversion",
        "outputId": "dce6ff86-856f-4dc2-9c18-f5e1544ddbf3"
      },
      "source": [
        "import aerokit.aero.plot.shockpolar as swplt\n",
        "\n",
        "fig=swplt.figure_theta_pressure(figsize=(14,8))\n",
        "fig.suptitle('Polar of Shock-Waves, $\\gamma = %.1f$'%gam, fontsize=18, y=0.93)\n",
        "plt.xlabel('flow angle', fontsize=14)\n",
        "plt.ylabel('normalized static pressure', fontsize=14)\n",
        "if p2p0 < 20.: plt.yscale('linear') # default is logarithmic\n",
        "#\n",
        "# plot polar curves\n",
        "swplt.plot_theta_pressure(M0, devmax=True, sonic=True)\n",
        "swplt.plot_theta_pressure(M1, thet_init=wdev, p_init=p1p0, color='red')\n",
        "swplt.plot_theta_pressure(M2, thet_init=0.,   p_init=p2p0, color='blue')\n",
        "\n",
        "# plot symbols for flow regions\n",
        "plt.plot(0,    1.,   'bo')\n",
        "plt.plot(wdev, p1p0, 'wo')\n",
        "plt.plot(0.,   p2p0, 'go')"
      ],
      "id": "brave-conversion",
      "execution_count": null,
      "outputs": []
    }
  ]
}