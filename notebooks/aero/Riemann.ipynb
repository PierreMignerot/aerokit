{
 "cells": [
  {
   "cell_type": "code",
   "execution_count": 1,
   "id": "official-wisdom",
   "metadata": {
    "slideshow": {
     "slide_type": "skip"
    }
   },
   "outputs": [],
   "source": [
    "import aerokit.aero.unsteady1D as uq\n",
    "import aerokit.aero.riemann    as riem"
   ]
  },
  {
   "cell_type": "code",
   "execution_count": null,
   "id": "innocent-questionnaire",
   "metadata": {
    "slideshow": {
     "slide_type": "slide"
    }
   },
   "outputs": [],
   "source": []
  },
  {
   "cell_type": "code",
   "execution_count": 2,
   "id": "desirable-cartridge",
   "metadata": {
    "slideshow": {
     "slide_type": "subslide"
    }
   },
   "outputs": [],
   "source": [
    "#\n",
    "qL = uq.unsteady_state(rho=1., u=0., p=1000.)\n",
    "qR = uq.unsteady_state(rho=1., u=0., p=.01)\n",
    "pb = riem.riemann_pb(qL, qR)"
   ]
  },
  {
   "cell_type": "code",
   "execution_count": 3,
   "id": "needed-suite",
   "metadata": {
    "slideshow": {
     "slide_type": "subslide"
    }
   },
   "outputs": [
    {
     "ename": "AttributeError",
     "evalue": "'unsteady_state' object has no attribute '_rankinehugoniot'",
     "output_type": "error",
     "traceback": [
      "\u001b[0;31m---------------------------------------------------------------------------\u001b[0m",
      "\u001b[0;31mAttributeError\u001b[0m                            Traceback (most recent call last)",
      "Input \u001b[0;32mIn [3]\u001b[0m, in \u001b[0;36m<module>\u001b[0;34m\u001b[0m\n\u001b[1;32m      1\u001b[0m pb\u001b[38;5;241m.\u001b[39m_waves\n\u001b[0;32m----> 2\u001b[0m qA \u001b[38;5;241m=\u001b[39m \u001b[43mqL\u001b[49m\u001b[38;5;241;43m.\u001b[39;49m\u001b[43m_rankinehugoniot\u001b[49m(ushock\u001b[38;5;241m=\u001b[39m\u001b[38;5;241m20.\u001b[39m)\n\u001b[1;32m      3\u001b[0m \u001b[38;5;28mprint\u001b[39m (qL\u001b[38;5;241m.\u001b[39masound(), qA, qA\u001b[38;5;241m.\u001b[39masound())\n",
      "\u001b[0;31mAttributeError\u001b[0m: 'unsteady_state' object has no attribute '_rankinehugoniot'"
     ]
    }
   ],
   "source": [
    "pb._waves\n",
    "qA = qL._rankinehugoniot(ushock=20.)\n",
    "print (qL.asound(), qA, qA.asound())"
   ]
  },
  {
   "cell_type": "code",
   "execution_count": 4,
   "id": "enormous-steel",
   "metadata": {
    "slideshow": {
     "slide_type": "slide"
    }
   },
   "outputs": [
    {
     "ename": "NameError",
     "evalue": "name 'q' is not defined",
     "output_type": "error",
     "traceback": [
      "\u001b[0;31m---------------------------------------------------------------------------\u001b[0m",
      "\u001b[0;31mNameError\u001b[0m                                 Traceback (most recent call last)",
      "Input \u001b[0;32mIn [4]\u001b[0m, in \u001b[0;36m<module>\u001b[0;34m\u001b[0m\n\u001b[1;32m      1\u001b[0m \u001b[38;5;66;03m#\u001b[39;00m\n\u001b[0;32m----> 2\u001b[0m qL \u001b[38;5;241m=\u001b[39m \u001b[43mq\u001b[49m\u001b[38;5;241m.\u001b[39munsteady_state(rho\u001b[38;5;241m=\u001b[39m\u001b[38;5;241m1.\u001b[39m,   u\u001b[38;5;241m=\u001b[39m\u001b[38;5;241m0.\u001b[39m, p\u001b[38;5;241m=\u001b[39m\u001b[38;5;241m1.\u001b[39m)\n\u001b[1;32m      3\u001b[0m qR \u001b[38;5;241m=\u001b[39m q\u001b[38;5;241m.\u001b[39munsteady_state(rho\u001b[38;5;241m=\u001b[39m\u001b[38;5;241m.125\u001b[39m, u\u001b[38;5;241m=\u001b[39m\u001b[38;5;241m0.\u001b[39m, p\u001b[38;5;241m=\u001b[39m\u001b[38;5;241m.01\u001b[39m)\n\u001b[1;32m      4\u001b[0m pb2 \u001b[38;5;241m=\u001b[39m riem\u001b[38;5;241m.\u001b[39mriemann_pb(qL, qR)\n",
      "\u001b[0;31mNameError\u001b[0m: name 'q' is not defined"
     ]
    }
   ],
   "source": [
    "#\n",
    "qL = q.unsteady_state(rho=1.,   u=0., p=1.)\n",
    "qR = q.unsteady_state(rho=.125, u=0., p=.01)\n",
    "pb2 = riem.riemann_pb(qL, qR)\n",
    "pb2.__dict__, pb2._delta_uL(pb2._pstar)+pb2._delta_uR(pb2._pstar)"
   ]
  },
  {
   "cell_type": "code",
   "execution_count": 5,
   "id": "noted-optics",
   "metadata": {
    "slideshow": {
     "slide_type": "slide"
    }
   },
   "outputs": [
    {
     "ename": "NameError",
     "evalue": "name 'q' is not defined",
     "output_type": "error",
     "traceback": [
      "\u001b[0;31m---------------------------------------------------------------------------\u001b[0m",
      "\u001b[0;31mNameError\u001b[0m                                 Traceback (most recent call last)",
      "Input \u001b[0;32mIn [5]\u001b[0m, in \u001b[0;36m<module>\u001b[0;34m\u001b[0m\n\u001b[1;32m      1\u001b[0m \u001b[38;5;66;03m#\u001b[39;00m\n\u001b[0;32m----> 2\u001b[0m qL \u001b[38;5;241m=\u001b[39m \u001b[43mq\u001b[49m\u001b[38;5;241m.\u001b[39munsteady_state(rho\u001b[38;5;241m=\u001b[39m\u001b[38;5;241m5.99924\u001b[39m, u\u001b[38;5;241m=\u001b[39m\u001b[38;5;241m19.5975\u001b[39m, p\u001b[38;5;241m=\u001b[39m\u001b[38;5;241m460.894\u001b[39m)\n\u001b[1;32m      3\u001b[0m qR \u001b[38;5;241m=\u001b[39m q\u001b[38;5;241m.\u001b[39munsteady_state(rho\u001b[38;5;241m=\u001b[39m\u001b[38;5;241m5.99242\u001b[39m, u\u001b[38;5;241m=\u001b[39m\u001b[38;5;241m-\u001b[39m\u001b[38;5;241m6.19633\u001b[39m, p\u001b[38;5;241m=\u001b[39m\u001b[38;5;241m46.0950\u001b[39m)\n\u001b[1;32m      4\u001b[0m pb2 \u001b[38;5;241m=\u001b[39m riem\u001b[38;5;241m.\u001b[39mriemann_pb(qL, qR)\n",
      "\u001b[0;31mNameError\u001b[0m: name 'q' is not defined"
     ]
    }
   ],
   "source": [
    "#\n",
    "qL = q.unsteady_state(rho=5.99924, u=19.5975, p=460.894)\n",
    "qR = q.unsteady_state(rho=5.99242, u=-6.19633, p=46.0950)\n",
    "pb2 = riem.riemann_pb(qL, qR)\n",
    "pb2.__dict__, pb2._delta_uL(pb2._pstar)+pb2._delta_uR(pb2._pstar)+pb2._qR.u - pb2._qL.u"
   ]
  },
  {
   "cell_type": "code",
   "execution_count": 6,
   "id": "bizarre-calendar",
   "metadata": {
    "slideshow": {
     "slide_type": "fragment"
    }
   },
   "outputs": [
    {
     "ename": "TypeError",
     "evalue": "unsupported operand type(s) for *: 'int' and 'range'",
     "output_type": "error",
     "traceback": [
      "\u001b[0;31m---------------------------------------------------------------------------\u001b[0m",
      "\u001b[0;31mTypeError\u001b[0m                                 Traceback (most recent call last)",
      "Input \u001b[0;32mIn [6]\u001b[0m, in \u001b[0;36m<module>\u001b[0;34m\u001b[0m\n\u001b[0;32m----> 1\u001b[0m \u001b[38;5;241;43m0\u001b[39;49m\u001b[38;5;241;43m*\u001b[39;49m\u001b[38;5;28;43mrange\u001b[39;49m\u001b[43m(\u001b[49m\u001b[38;5;241;43m5\u001b[39;49m\u001b[43m)\u001b[49m\n",
      "\u001b[0;31mTypeError\u001b[0m: unsupported operand type(s) for *: 'int' and 'range'"
     ]
    }
   ],
   "source": [
    "0*range(5)"
   ]
  },
  {
   "cell_type": "code",
   "execution_count": null,
   "id": "selected-nursing",
   "metadata": {},
   "outputs": [],
   "source": []
  }
 ],
 "metadata": {
  "celltoolbar": "Slideshow",
  "kernelspec": {
   "display_name": "Python 3 (ipykernel)",
   "language": "python",
   "name": "python3"
  },
  "language_info": {
   "codemirror_mode": {
    "name": "ipython",
    "version": 3
   },
   "file_extension": ".py",
   "mimetype": "text/x-python",
   "name": "python",
   "nbconvert_exporter": "python",
   "pygments_lexer": "ipython3",
   "version": "3.8.10"
  }
 },
 "nbformat": 4,
 "nbformat_minor": 5
}
