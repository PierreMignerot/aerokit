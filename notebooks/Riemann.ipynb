{
 "cells": [
  {
   "cell_type": "code",
   "execution_count": 1,
   "metadata": {},
   "outputs": [],
   "source": [
    "import hades.aero.unsteady1D as q\n",
    "import hades.aero.riemann    as riem"
   ]
  },
  {
   "cell_type": "code",
   "execution_count": 2,
   "metadata": {},
   "outputs": [],
   "source": [
    "#\n",
    "qL = q.unsteady_state(rho=1., u=0., p=1000.)\n",
    "qR = q.unsteady_state(rho=1., u=0., p=.01)\n",
    "pb = riem.riemann_pb(qL, qR)"
   ]
  },
  {
   "cell_type": "code",
   "execution_count": 3,
   "metadata": {},
   "outputs": [
    {
     "data": {
      "text/plain": [
       "state (rho, u, p) : (1.0, 0.0, 1000.0)"
      ]
     },
     "execution_count": 3,
     "metadata": {},
     "output_type": "execute_result"
    }
   ],
   "source": [
    "qL"
   ]
  },
  {
   "cell_type": "code",
   "execution_count": 7,
   "metadata": {},
   "outputs": [
    {
     "data": {
      "text/plain": [
       "({'_pstar': array([ 0.21984559]),\n",
       "  '_qL': state (rho, u, p) : (1.0, 0.0, 1.0),\n",
       "  '_qR': state (rho, u, p) : (0.125, 0.0, 0.01),\n",
       "  '_qstarL': state (rho, u, p) : ([ 0.33890979], [ 1.15121209], [ 0.21984559]),\n",
       "  '_qstarR': state (rho, u, p) : ([ 0.59366379], [ 1.15121209], [ 0.21984559]),\n",
       "  '_ustar': array([ 1.15121209]),\n",
       "  '_waves': [-1.1832159566199232,\n",
       "   array([ 0.19823855]),\n",
       "   array([ 1.15121209]),\n",
       "   array([ 1.45825845]),\n",
       "   array([ 1.45825845])]},\n",
       " array([  2.22044605e-16]))"
      ]
     },
     "execution_count": 7,
     "metadata": {},
     "output_type": "execute_result"
    }
   ],
   "source": [
    "#\n",
    "qL = q.unsteady_state(rho=1.,   u=0., p=1.)\n",
    "qR = q.unsteady_state(rho=.125, u=0., p=.01)\n",
    "pb2 = riem.riemann_pb(qL, qR)\n",
    "pb2.__dict__, pb2._delta_uL(pb2._pstar)+pb2._delta_uR(pb2._pstar)"
   ]
  },
  {
   "cell_type": "code",
   "execution_count": 6,
   "metadata": {},
   "outputs": [
    {
     "data": {
      "text/plain": [
       "({'_pstar': array([ 1691.6469554]),\n",
       "  '_qL': state (rho, u, p) : (5.99924, 19.5975, 460.894),\n",
       "  '_qR': state (rho, u, p) : (5.99242, -6.19633, 46.095),\n",
       "  '_qstarL': state (rho, u, p) : ([ 14.28234995], [ 8.68977441], [ 1691.6469554]),\n",
       "  '_qstarR': state (rho, u, p) : ([ 31.04260164], [ 8.68977441], [ 1691.6469554]),\n",
       "  '_ustar': array([ 8.68977441]),\n",
       "  '_waves': [array([ 0.78959392]),\n",
       "   array([ 0.78959392]),\n",
       "   array([ 8.68977441]),\n",
       "   array([ 12.25077812]),\n",
       "   array([ 12.25077812])]},\n",
       " array([ 0.]))"
      ]
     },
     "execution_count": 6,
     "metadata": {},
     "output_type": "execute_result"
    }
   ],
   "source": [
    "#\n",
    "qL = q.unsteady_state(rho=5.99924, u=19.5975, p=460.894)\n",
    "qR = q.unsteady_state(rho=5.99242, u=-6.19633, p=46.0950)\n",
    "pb2 = riem.riemann_pb(qL, qR)\n",
    "pb2.__dict__, pb2._delta_uL(pb2._pstar)+pb2._delta_uR(pb2._pstar)+pb2._qR.u - pb2._qL.u"
   ]
  },
  {
   "cell_type": "code",
   "execution_count": 3,
   "metadata": {},
   "outputs": [
    {
     "data": {
      "text/plain": [
       "[]"
      ]
     },
     "execution_count": 3,
     "metadata": {},
     "output_type": "execute_result"
    }
   ],
   "source": [
    "0*range(5)"
   ]
  },
  {
   "cell_type": "code",
   "execution_count": null,
   "metadata": {},
   "outputs": [],
   "source": []
  }
 ],
 "metadata": {
  "kernelspec": {
   "display_name": "Python 2",
   "language": "python",
   "name": "python2"
  },
  "language_info": {
   "codemirror_mode": {
    "name": "ipython",
    "version": 2
   },
   "file_extension": ".py",
   "mimetype": "text/x-python",
   "name": "python",
   "nbconvert_exporter": "python",
   "pygments_lexer": "ipython2",
   "version": "2.7.9"
  }
 },
 "nbformat": 4,
 "nbformat_minor": 2
}
