{
 "cells": [
  {
   "cell_type": "code",
   "execution_count": 1,
   "id": "forward-static",
   "metadata": {},
   "outputs": [],
   "source": [
    "import math\n",
    "import aerokit.aero.unsteady1D as uq\n",
    "import aerokit.aero.riemann    as riem\n",
    "import aerokit.aero.Isentropic as Is\n",
    "import aerokit.aero.MassFlow   as mf\n",
    "import aerokit.aero.degree     as deg\n",
    "gam = 1.4"
   ]
  },
  {
   "cell_type": "markdown",
   "id": "increasing-evolution",
   "metadata": {},
   "source": [
    "Soit $\\alpha$ l'angle max du distributeur, le rapport de section col est $A/A_c=1/\\cos(\\alpha)$. On calcule le nombre de Mach amont de cet écoulement bloqué"
   ]
  },
  {
   "cell_type": "code",
   "execution_count": 3,
   "id": "seeing-north",
   "metadata": {},
   "outputs": [
    {
     "name": "stdout",
     "output_type": "stream",
     "text": [
      "M0 = 0.411 pour A/Ac = 1.556 (50.0 deg)\n"
     ]
    }
   ],
   "source": [
    "alpha = 50.\n",
    "AoAc  = 1./deg.cos(alpha)\n",
    "M0    = mf.Mach_Sigma(AoAc, Mach=.2)\n",
    "print (\"M0 = %4.3f pour A/Ac = %4.3f (%1.1f deg)\"%(M0,AoAc,alpha))"
   ]
  },
  {
   "cell_type": "markdown",
   "id": "prescribed-dubai",
   "metadata": {},
   "source": [
    "On prend pour référence une pression statique $p_0=1000\\rm hPa$ au col et on définit un état initial 0 correspondant au Mach précédemment calculé."
   ]
  },
  {
   "cell_type": "code",
   "execution_count": 5,
   "id": "worth-portuguese",
   "metadata": {},
   "outputs": [
    {
     "name": "stdout",
     "output_type": "stream",
     "text": [
      "Q0:  0.41096657881805926 189292.91587378542 199.61328173380642\n"
     ]
    }
   ],
   "source": [
    "p0c = 1e5\n",
    "Pt0 = p0c*Is.PtPs_Mach(Mach=1.)\n",
    "#\n",
    "p0 = Pt0/Is.PtPs_Mach(M0)\n",
    "#\n",
    "q0 = uq.unsteady_state(rho=1., u=M0*math.sqrt(gam*p0/1.), p=p0)\n",
    "# check Mach and derived quantities\n",
    "print (\"Q0: \",q0.Mach(), q0.Ptot(), q0.massflow())"
   ]
  },
  {
   "cell_type": "markdown",
   "id": "headed-exchange",
   "metadata": {},
   "source": [
    "# hypothèse 1 : on impose l'état final\n",
    "\n",
    "L'état final Q1f est défini par le ratio de Ptot et est supposé au même Mach (blocage) et même Ti"
   ]
  },
  {
   "cell_type": "code",
   "execution_count": 8,
   "id": "latin-force",
   "metadata": {},
   "outputs": [
    {
     "name": "stdout",
     "output_type": "stream",
     "text": [
      "Q1f:  0.41096657881805926 265010.0822232996 279.458594427329\n"
     ]
    }
   ],
   "source": [
    "Ptot_ratio=1.4\n",
    "# Ptot variation with Ttot and Mach number constant : T & u csts\n",
    "q1f = uq.unsteady_state(rho=q0.rho*Ptot_ratio, u=q0.u, p=q0.p*Ptot_ratio)\n",
    "#\n",
    "print (\"Q1f: \",q1f.Mach(), q1f.Ptot(), q1f.massflow())"
   ]
  },
  {
   "cell_type": "code",
   "execution_count": 9,
   "id": "treated-madrid",
   "metadata": {
    "scrolled": true
   },
   "outputs": [
    {
     "name": "stdout",
     "output_type": "stream",
     "text": [
      "257.9789102406966 198981.38040653555\n",
      "post-Swave: 243378.59416608704 0.5442094118979995 319.8072965476205\n",
      "post-shock: 239034.6800564162 0.5186347065614225 290.4553786861911\n"
     ]
    }
   ],
   "source": [
    "pb = riem.riemann_pb(q1f, q0)\n",
    "print (pb.ustar(), pb.pstar())\n",
    "print (\"post-Swave:\", pb.qstarL().Ptot(), pb.qstarL().Mach(), pb.qstarL().massflow())\n",
    "print (\"post-shock:\", pb.qstarR().Ptot(), pb.qstarR().Mach(), pb.qstarR().massflow())"
   ]
  },
  {
   "cell_type": "markdown",
   "id": "major-winner",
   "metadata": {},
   "source": [
    "# hypothèse 2 : on impose l'état à Ptot final mais Ps initiale\n",
    "\n",
    "L'état final Q10 est défini par le ratio de Ptot mais garde la pression initiale"
   ]
  },
  {
   "cell_type": "code",
   "execution_count": 11,
   "id": "specialized-password",
   "metadata": {},
   "outputs": [
    {
     "name": "stdout",
     "output_type": "stream",
     "text": [
      "Q10:  0.8309477340737311 265010.08222329954 423.47918756678064\n"
     ]
    }
   ],
   "source": [
    "# Ptot variation with Ps, Ttot constant : T & u csts\n",
    "M10  = Is.Mach_PtPs(q0.Ptot()*Ptot_ratio/q0.p)\n",
    "p10  = q0.Ptot()*Ptot_ratio/Is.PtPs_Mach(M10)\n",
    "rho10= p10/(q0.p/q0.rho*Is.TtTs_Mach(M0)/Is.TtTs_Mach(M10))\n",
    "q10 = uq.unsteady_state(rho=rho10, u=M10*math.sqrt(gam*p10/rho10), p=p10)\n",
    "#\n",
    "print (\"Q10: \",q10.Mach(), q10.Ptot(), q10.massflow())"
   ]
  },
  {
   "cell_type": "code",
   "execution_count": 12,
   "id": "laughing-plastic",
   "metadata": {
    "scrolled": true
   },
   "outputs": [
    {
     "name": "stdout",
     "output_type": "stream",
     "text": [
      "294.361788457352 220236.14364591404\n",
      "post-Swave: 283555.17855759826 0.6118507089893513 392.1264448377433\n",
      "post-shock: 277269.185400414 0.5831362423025315 356.18470351008926\n"
     ]
    }
   ],
   "source": [
    "pb = riem.riemann_pb(q10, q0)\n",
    "print (pb.ustar(), pb.pstar())\n",
    "print (\"post-Swave:\", pb.qstarL().Ptot(), pb.qstarL().Mach(), pb.qstarL().massflow())\n",
    "print (\"post-shock:\", pb.qstarR().Ptot(), pb.qstarR().Mach(), pb.qstarR().massflow())"
   ]
  },
  {
   "cell_type": "code",
   "execution_count": null,
   "id": "swedish-prevention",
   "metadata": {},
   "outputs": [],
   "source": []
  }
 ],
 "metadata": {
  "kernelspec": {
   "display_name": "Python 3 (ipykernel)",
   "language": "python",
   "name": "python3"
  },
  "language_info": {
   "codemirror_mode": {
    "name": "ipython",
    "version": 3
   },
   "file_extension": ".py",
   "mimetype": "text/x-python",
   "name": "python",
   "nbconvert_exporter": "python",
   "pygments_lexer": "ipython3",
   "version": "3.8.10"
  }
 },
 "nbformat": 4,
 "nbformat_minor": 5
}
