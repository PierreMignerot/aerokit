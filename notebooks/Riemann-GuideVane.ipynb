{
 "cells": [
  {
   "cell_type": "code",
   "execution_count": 17,
   "metadata": {},
   "outputs": [],
   "source": [
    "import math\n",
    "import aerokit.aero.unsteady1D as uq\n",
    "import aerokit.aero.riemann    as riem\n",
    "import aerokit.aero.Isentropic as Is\n",
    "import aerokit.aero.MassFlow   as mf\n",
    "import aerokit.aero.degree     as deg\n",
    "gam = 1.4"
   ]
  },
  {
   "cell_type": "markdown",
   "metadata": {},
   "source": [
    "Soit $\\alpha$ l'angle max du distributeur, le rapport de section col est $A/A_c=1/\\cos(\\alpha)$. On calcule le nombre de Mach amont de cet écoulement bloqué"
   ]
  },
  {
   "cell_type": "code",
   "execution_count": 13,
   "metadata": {},
   "outputs": [
    {
     "name": "stdout",
     "output_type": "stream",
     "text": [
      "M0 = 0.411 pour A/Ac = 1.556 (50.0 deg)\n"
     ]
    }
   ],
   "source": [
    "alpha = 50.\n",
    "AoAc  = 1./deg.cos(alpha)\n",
    "M0    = mf.Mach_Sigma(AoAc, Mach=.2)\n",
    "print \"M0 = %4.3f pour A/Ac = %4.3f (%1.1f deg)\"%(M0,AoAc,alpha)"
   ]
  },
  {
   "cell_type": "markdown",
   "metadata": {},
   "source": [
    "On prend pour référence une pression statique $p_0=1000\\rm hPa$ au col et on définit un état initial 0 correspondant au Mach précédemment calculé."
   ]
  },
  {
   "cell_type": "code",
   "execution_count": 14,
   "metadata": {},
   "outputs": [
    {
     "name": "stdout",
     "output_type": "stream",
     "text": [
      "Q0:  0.410966578436 189292.915874 199.61328157\n"
     ]
    }
   ],
   "source": [
    "p0c = 1e5\n",
    "Pt0 = p0c*Is.PiPs_Mach(Mach=1.)\n",
    "#\n",
    "p0 = Pt0/Is.PiPs_Mach(M0)\n",
    "#\n",
    "q0 = uq.unsteady_state(rho=1., u=M0*math.sqrt(gam*p0/1.), p=p0)\n",
    "# check Mach and derived quantities\n",
    "print \"Q0: \",q0.Mach(), q0.Ptot(), q0.massflow()"
   ]
  },
  {
   "cell_type": "markdown",
   "metadata": {},
   "source": [
    "# hypothèse 1 : on impose l'état final\n",
    "\n",
    "L'état final Q1f est défini par le ratio de Ptot et est supposé au même Mach (blocage) et même Ti"
   ]
  },
  {
   "cell_type": "code",
   "execution_count": 15,
   "metadata": {},
   "outputs": [
    {
     "name": "stdout",
     "output_type": "stream",
     "text": [
      "Q1f:  0.410966578436 265010.082223 279.458594197\n"
     ]
    }
   ],
   "source": [
    "Ptot_ratio=1.4\n",
    "# Ptot variation with Ttot and Mach number constant : T & u csts\n",
    "q1f = uq.unsteady_state(rho=q0.rho*Ptot_ratio, u=q0.u, p=q0.p*Ptot_ratio)\n",
    "#\n",
    "print \"Q1f: \",q1f.Mach(), q1f.Ptot(), q1f.massflow()"
   ]
  },
  {
   "cell_type": "code",
   "execution_count": 16,
   "metadata": {
    "scrolled": true
   },
   "outputs": [
    {
     "name": "stdout",
     "output_type": "stream",
     "text": [
      "[ 257.97891008] [ 198981.38044881]\n",
      "post-Swave: [ 243378.59414932] [ 0.54420941] [ 319.80729635]\n",
      "post-shock: [ 239034.68004581] [ 0.51863471] [ 290.45537851]\n"
     ]
    }
   ],
   "source": [
    "pb = riem.riemann_pb(q1f, q0)\n",
    "print pb.ustar(), pb.pstar()\n",
    "print \"post-Swave:\", pb.qstarL().Ptot(), pb.qstarL().Mach(), pb.qstarL().massflow()\n",
    "print \"post-shock:\", pb.qstarR().Ptot(), pb.qstarR().Mach(), pb.qstarR().massflow()"
   ]
  },
  {
   "cell_type": "markdown",
   "metadata": {},
   "source": [
    "# hypothèse 2 : on impose l'état à Ptot final mais Ps initiale\n",
    "\n",
    "L'état final Q10 est défini par le ratio de Ptot mais garde la pression initiale"
   ]
  },
  {
   "cell_type": "code",
   "execution_count": 21,
   "metadata": {},
   "outputs": [
    {
     "name": "stdout",
     "output_type": "stream",
     "text": [
      "Q10:  0.830947733866 265010.082223 423.479187506\n"
     ]
    }
   ],
   "source": [
    "# Ptot variation with Ps, Ttot constant : T & u csts\n",
    "M10  = Is.Mach_PiPs(q0.Ptot()*Ptot_ratio/q0.p)\n",
    "p10  = q0.Ptot()*Ptot_ratio/Is.PiPs_Mach(M10)\n",
    "rho10= p10/(q0.p/q0.rho*Is.TiTs_Mach(M0)/Is.TiTs_Mach(M10))\n",
    "q10 = uq.unsteady_state(rho=rho10, u=M10*math.sqrt(gam*p10/rho10), p=p10)\n",
    "#\n",
    "print \"Q10: \",q10.Mach(), q10.Ptot(), q10.massflow()"
   ]
  },
  {
   "cell_type": "code",
   "execution_count": 23,
   "metadata": {
    "scrolled": true
   },
   "outputs": [
    {
     "name": "stdout",
     "output_type": "stream",
     "text": [
      "[ 294.36178835] [ 220236.14372054]\n",
      "post-Swave: [ 283555.17858548] [ 0.61185071] [ 392.12644473]\n",
      "post-shock: [ 277269.1854334] [ 0.58313624] [ 356.18470341]\n"
     ]
    }
   ],
   "source": [
    "pb = riem.riemann_pb(q10, q0)\n",
    "print pb.ustar(), pb.pstar()\n",
    "print \"post-Swave:\", pb.qstarL().Ptot(), pb.qstarL().Mach(), pb.qstarL().massflow()\n",
    "print \"post-shock:\", pb.qstarR().Ptot(), pb.qstarR().Mach(), pb.qstarR().massflow()"
   ]
  },
  {
   "cell_type": "code",
   "execution_count": null,
   "metadata": {},
   "outputs": [],
   "source": []
  }
 ],
 "metadata": {
  "kernelspec": {
   "display_name": "Python 2",
   "language": "python",
   "name": "python2"
  },
  "language_info": {
   "codemirror_mode": {
    "name": "ipython",
    "version": 2
   },
   "file_extension": ".py",
   "mimetype": "text/x-python",
   "name": "python",
   "nbconvert_exporter": "python",
   "pygments_lexer": "ipython2",
   "version": "2.7.9"
  }
 },
 "nbformat": 4,
 "nbformat_minor": 2
}
