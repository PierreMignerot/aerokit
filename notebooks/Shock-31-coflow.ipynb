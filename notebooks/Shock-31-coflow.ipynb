{
 "cells": [
  {
   "cell_type": "markdown",
   "id": "abandoned-engineer",
   "metadata": {},
   "source": [
    "# Rankine-Hugoniot, la polaire de chocs\n",
    "\n",
    "On vous propose de mettre en place une feuille de calcul de l'écoulement supersonique autour d'un profil ABC isocèle en B. Les calculs doivent être les plus généraux possibles et paramétrés en particulier par le nombre de Mach `Minf` et l'incidence `aoa`.\n",
    "\n",
    "`Python` sera utilisé ici comme `matlab`. Des fonctionnalités supplémentaires peuvent être ajoutées par l'import de modules, standards à une distribution (comme `math`, `numpy`) ou personnalisés comme ci-dessous. Des fonctionnalités d'édition sont propres à [`Ipython/Notebook`](#ipython)."
   ]
  },
  {
   "cell_type": "code",
   "execution_count": 1,
   "id": "massive-spare",
   "metadata": {},
   "outputs": [],
   "source": [
    "import math\n",
    "import numpy as np\n",
    "import matplotlib.pyplot as plt\n",
    "from aerokit.aero import degree    as deg # import trigo functions with degree unit support\n",
    "from aerokit.aero import ShockWave as sw  # import functions for shockwave computation"
   ]
  },
  {
   "cell_type": "markdown",
   "id": "comic-doctor",
   "metadata": {},
   "source": [
    "Les paramètres suivants sont définis comme des variables globales, que l'on peut utiliser directement dans les fonctions (comme $\\gamma$ par exemple)."
   ]
  },
  {
   "cell_type": "code",
   "execution_count": 2,
   "id": "behind-interference",
   "metadata": {
    "scrolled": true
   },
   "outputs": [
    {
     "name": "stdout",
     "output_type": "stream",
     "text": [
      "angle of attack  (deg): 0.0\n",
      "angle of profile (deg): 4.994958504026223\n"
     ]
    }
   ],
   "source": [
    "# definition of problem parameters\n",
    "gam=1.4\n",
    "Minf=4.418 ; Tinf=216. ; pinf = 5500.\n",
    "aoa=0. ; print(\"angle of attack  (deg): {}\".format(aoa))\n",
    "AB = BC = .5 ; hol = 0.0437 # hol is h/l (h over l)\n",
    "prof_ang = deg.atan(2.*hol) ; print(\"angle of profile (deg): {}\".format(prof_ang))"
   ]
  },
  {
   "cell_type": "markdown",
   "id": "specific-album",
   "metadata": {},
   "source": [
    "## Définition des fonctions de transformation à travers le choc"
   ]
  },
  {
   "cell_type": "markdown",
   "id": "velvet-lottery",
   "metadata": {},
   "source": [
    "On vous propose tout d'abord de définir les fonctions de saut 1D dépendantes du Mach normal amont. On vérifiera les fonctions implémentées à l'aide des tables.\n",
    "\n",
    "$$\\frac{\\rho_1}{\\rho_0} = \\left( \\frac{2}{\\gamma+1}\\frac{1}{M_{n0}^2} + \\frac{\\gamma-1}{\\gamma+1} \\right)^{—1}\n",
    "\\qquad\\qquad \n",
    "  \\frac{P_1}{P_0} =  \\frac{2\\gamma}{\\gamma+1}M_{n0}^2 - \\frac{\\gamma-1}{\\gamma+1} $$\n",
    "\n",
    "$$ M_{n1}^2 = \\frac{1+\\frac{\\gamma-1}{2} M_{n0}^2}{\\gamma M_{n0}^2 - \\frac{\\gamma-1}{2} } $$"
   ]
  },
  {
   "cell_type": "code",
   "execution_count": 3,
   "id": "environmental-quarterly",
   "metadata": {},
<<<<<<< HEAD
   "outputs": [
    {
     "name": "stdout",
     "output_type": "stream",
     "text": [
      "relative error on Ps ratio is 0.0e+00%\n"
     ]
    }
   ],
=======
   "outputs": [],
>>>>>>> 0e0b86738c9b416512c5eceee1f3d13a8da329be
   "source": [
    "import aerokit.aero.ShockWave as sw\n",
    "\n",
    "# --- functions implementation ---\n",
    "\n",
    "def rho_ratio_from_Mn(Mn):\n",
    "    return sw.Rho_ratio(Mn)\n",
    "    \n",
    "def ps_ratio_from_Mn(Mn):\n",
    "    return sw.Ps_ratio(Mn)\n",
    "\n",
    "def Mn1_from_Mn(Mn):\n",
    "    return sw.downstream_Mn(Mn)\n",
    "    \n",
    "def pi_ratio_from_Mn(Mn):\n",
    "    return sw.Pi_ratio(Mn)\n",
    "    \n",
    "# --- verification ---\n",
    "Mnx=2. ; ref = 4.5 ; print(\"relative error on Ps ratio is {:3.1e}%\".format((ps_ratio_from_Mn(Mnx)-ref)/ref*100))"
   ]
  },
  {
   "cell_type": "markdown",
   "id": "large-arctic",
   "metadata": {},
   "source": [
    "On peut maintenant implémenter le calcul de la polaire de choc, soit le calcul direct (voir procédure dans les tables), soit un calcul itératif à partir de\n",
    "$$ \\frac{\\tan\\sigma}{\\tan(\\sigma-\\theta)}=\\frac{\\rho_1}{\\rho_0}=f(M_0,\\sigma) $$"
   ]
  },
  {
   "cell_type": "code",
   "execution_count": 4,
   "id": "fluid-salad",
   "metadata": {},
<<<<<<< HEAD
   "outputs": [
    {
     "name": "stdout",
     "output_type": "stream",
     "text": [
      "relative error on sigma is 7.9e-07%\n"
     ]
    }
   ],
=======
   "outputs": [],
>>>>>>> 0e0b86738c9b416512c5eceee1f3d13a8da329be
   "source": [
    "from scipy.optimize import newton\n",
    "\n",
    "def sigma_from_M0_Dev(M0, dev):\n",
    "    # definition of the function to solver\n",
    "    # this function has 4 roots, good initialization is critical to get the right 'weak' solution\n",
    "    def f_to_solve(sig):\n",
    "        return deg.tan(sig-dev)*rho_ratio_from_Mn(M0*deg.sin(sig))-deg.tan(sig)\n",
    "    return newton(f_to_solve, deg.asin(1./M0)+dev) \n",
    "\n",
    "# --- verification ---\n",
    "Mx=2. ; devx=20. ; ref = 53.4229401037; print(\"relative error on sigma is {:3.1e}%\".format((sigma_from_M0_Dev(Mx,devx)-ref)/ref*100))"
   ]
  },
  {
   "cell_type": "markdown",
   "id": "guilty-knight",
   "metadata": {},
   "source": [
    "## Polaire angle de choc $\\sigma$ et déviation $\\theta$\n",
    "\n",
    "On définit *a minima* la fonction de Prandtl-Meyer $ \\tilde{\\omega}(M)$ et son inverse.\n",
    "\n",
    "$$ \\tilde{\\omega}(M) = \\sqrt\\frac{\\gamma+1}{\\gamma-1}\\mbox{atan}\\sqrt{\\frac{\\gamma-1}{\\gamma+1}(M^2-1)}\n",
    "       + \\mbox{atan}\\frac{1}{\\sqrt{M^2-1}} - 90°$$"
   ]
  },
  {
   "cell_type": "code",
   "execution_count": 5,
   "id": "seven-integration",
   "metadata": {},
<<<<<<< HEAD
   "outputs": [
    {
     "ename": "IndexError",
     "evalue": "only integers, slices (`:`), ellipsis (`...`), numpy.newaxis (`None`) and integer or boolean arrays are valid indices",
     "output_type": "error",
     "traceback": [
      "\u001b[0;31m---------------------------------------------------------------------------\u001b[0m",
      "\u001b[0;31mIndexError\u001b[0m                                Traceback (most recent call last)",
      "Input \u001b[0;32mIn [5]\u001b[0m, in \u001b[0;36m<module>\u001b[0;34m\u001b[0m\n\u001b[1;32m     12\u001b[0m     dev \u001b[38;5;241m=\u001b[39m sw\u001b[38;5;241m.\u001b[39mdeflection_Mach_sigma(m, sig, gam)\n\u001b[1;32m     13\u001b[0m     plt\u001b[38;5;241m.\u001b[39mplot(dev, sig, \u001b[38;5;124m'\u001b[39m\u001b[38;5;124mk-\u001b[39m\u001b[38;5;124m'\u001b[39m)\n\u001b[0;32m---> 14\u001b[0m     plt\u001b[38;5;241m.\u001b[39mtext(\u001b[43mdev\u001b[49m\u001b[43m[\u001b[49m\u001b[43mnpoints\u001b[49m\u001b[38;5;241;43m/\u001b[39;49m\u001b[38;5;241;43m2\u001b[39;49m\u001b[43m]\u001b[49m, sig[npoints\u001b[38;5;241m/\u001b[39m\u001b[38;5;241m2\u001b[39m], \u001b[38;5;124m'\u001b[39m\u001b[38;5;132;01m%.3g\u001b[39;00m\u001b[38;5;124m'\u001b[39m\u001b[38;5;241m%\u001b[39mm, horizontalalignment\u001b[38;5;241m=\u001b[39m\u001b[38;5;124m'\u001b[39m\u001b[38;5;124mcenter\u001b[39m\u001b[38;5;124m'\u001b[39m, verticalalignment\u001b[38;5;241m=\u001b[39m\u001b[38;5;124m'\u001b[39m\u001b[38;5;124mtop\u001b[39m\u001b[38;5;124m'\u001b[39m,\n\u001b[1;32m     15\u001b[0m              fontsize\u001b[38;5;241m=\u001b[39m\u001b[38;5;241m8\u001b[39m, bbox\u001b[38;5;241m=\u001b[39m\u001b[38;5;28mdict\u001b[39m(facecolor\u001b[38;5;241m=\u001b[39m\u001b[38;5;124m'\u001b[39m\u001b[38;5;124mwhite\u001b[39m\u001b[38;5;124m'\u001b[39m, alpha\u001b[38;5;241m=\u001b[39m\u001b[38;5;241m0.8\u001b[39m),\n\u001b[1;32m     16\u001b[0m              rotation\u001b[38;5;241m=\u001b[39m\u001b[38;5;124m'\u001b[39m\u001b[38;5;124m60\u001b[39m\u001b[38;5;124m'\u001b[39m)\n\u001b[1;32m     17\u001b[0m plt\u001b[38;5;241m.\u001b[39maxis([\u001b[38;5;241m0.\u001b[39m, \u001b[38;5;241m50.\u001b[39m, \u001b[38;5;241m0.\u001b[39m, \u001b[38;5;241m90.\u001b[39m])\n\u001b[1;32m     18\u001b[0m plt\u001b[38;5;241m.\u001b[39mxlabel(\u001b[38;5;124m'\u001b[39m\u001b[38;5;124mdeviation $\u001b[39m\u001b[38;5;124m\\\u001b[39m\u001b[38;5;124mDelta\u001b[39m\u001b[38;5;130;01m\\\\\u001b[39;00m\u001b[38;5;124mtheta$\u001b[39m\u001b[38;5;124m'\u001b[39m, fontsize\u001b[38;5;241m=\u001b[39m\u001b[38;5;241m10\u001b[39m)\n",
      "\u001b[0;31mIndexError\u001b[0m: only integers, slices (`:`), ellipsis (`...`), numpy.newaxis (`None`) and integer or boolean arrays are valid indices"
     ]
    },
    {
     "data": {
      "image/png": "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\n",
      "text/plain": [
       "<Figure size 720x576 with 1 Axes>"
      ]
     },
     "metadata": {
      "needs_background": "light"
     },
     "output_type": "display_data"
    }
   ],
=======
   "outputs": [],
>>>>>>> 0e0b86738c9b416512c5eceee1f3d13a8da329be
   "source": [
    "%matplotlib inline\n",
    "npoints = 100\n",
    "gam     = 1.4\n",
    "\n",
    "fig=plt.figure(1, figsize=(10,8))\n",
    "fig.suptitle('Polar of Shock-Waves, $\\gamma = %.1f$'%gam, fontsize=12, y=0.93)\n",
    "\n",
    "macharray = [ 1.05, 1.1, 1.2, 1.3, 1.4, 1.5, 1.6, 1.8, 2., 2.2, 2.5, 3., 3.5, 4., 5., 10., 100. ]\n",
    "\n",
    "for m in macharray:\n",
    "    sig = np.linspace(deg.asin(1./m), 90., npoints+1)\n",
    "    dev = sw.deflection_Mach_sigma(m, sig, gam)\n",
    "    plt.plot(dev, sig, 'k-')\n",
    "    plt.text(dev[npoints/2], sig[npoints/2], '%.3g'%m, horizontalalignment='center', verticalalignment='top',\n",
    "             fontsize=8, bbox=dict(facecolor='white', alpha=0.8),\n",
    "             rotation='60')\n",
    "plt.axis([0., 50., 0., 90.])\n",
    "plt.xlabel('deviation $\\Delta\\\\theta$', fontsize=10)\n",
    "plt.ylabel('shock angle $\\sigma$', fontsize=10)\n",
    "plt.minorticks_on()\n",
    "plt.grid(which='major', linestyle='-', alpha=0.8)\n",
    "plt.grid(which='minor', linestyle=':', alpha=0.5)\n"
   ]
  },
  {
   "cell_type": "code",
   "execution_count": null,
   "id": "foster-armor",
   "metadata": {},
   "outputs": [],
   "source": []
  },
  {
   "cell_type": "code",
   "execution_count": 6,
   "id": "continental-farming",
   "metadata": {},
<<<<<<< HEAD
   "outputs": [
    {
     "ename": "IndexError",
     "evalue": "only integers, slices (`:`), ellipsis (`...`), numpy.newaxis (`None`) and integer or boolean arrays are valid indices",
     "output_type": "error",
     "traceback": [
      "\u001b[0;31m---------------------------------------------------------------------------\u001b[0m",
      "\u001b[0;31mIndexError\u001b[0m                                Traceback (most recent call last)",
      "Input \u001b[0;32mIn [6]\u001b[0m, in \u001b[0;36m<module>\u001b[0;34m\u001b[0m\n\u001b[1;32m     17\u001b[0m     plt\u001b[38;5;241m.\u001b[39mplot(rdev[\u001b[38;5;241m-\u001b[39m\u001b[38;5;241m1\u001b[39m], kpis[\u001b[38;5;241m-\u001b[39m\u001b[38;5;241m1\u001b[39m], \u001b[38;5;124m'\u001b[39m\u001b[38;5;124mro\u001b[39m\u001b[38;5;124m'\u001b[39m, alpha\u001b[38;5;241m=\u001b[39m\u001b[38;5;241m0.5\u001b[39m)\n\u001b[1;32m     18\u001b[0m     plt\u001b[38;5;241m.\u001b[39mtext(rdev[\u001b[38;5;241m-\u001b[39m\u001b[38;5;241m1\u001b[39m], kpis[\u001b[38;5;241m-\u001b[39m\u001b[38;5;241m1\u001b[39m], \u001b[38;5;124m'\u001b[39m\u001b[38;5;124mM=1\u001b[39m\u001b[38;5;124m'\u001b[39m, fontsize\u001b[38;5;241m=\u001b[39m\u001b[38;5;241m7\u001b[39m, clip_on\u001b[38;5;241m=\u001b[39m\u001b[38;5;124m'\u001b[39m\u001b[38;5;124mtrue\u001b[39m\u001b[38;5;124m'\u001b[39m, horizontalalignment\u001b[38;5;241m=\u001b[39m\u001b[38;5;124m'\u001b[39m\u001b[38;5;124mright\u001b[39m\u001b[38;5;124m'\u001b[39m) \n\u001b[0;32m---> 19\u001b[0m     plt\u001b[38;5;241m.\u001b[39mtext(\u001b[43mdev\u001b[49m\u001b[43m[\u001b[49m\u001b[38;5;241;43m4\u001b[39;49m\u001b[38;5;241;43m*\u001b[39;49m\u001b[43mnpoints\u001b[49m\u001b[38;5;241;43m/\u001b[39;49m\u001b[38;5;241;43m5\u001b[39;49m\u001b[43m]\u001b[49m, kpsw[\u001b[38;5;241m4\u001b[39m\u001b[38;5;241m*\u001b[39mnpoints\u001b[38;5;241m/\u001b[39m\u001b[38;5;241m5\u001b[39m], \u001b[38;5;124m'\u001b[39m\u001b[38;5;132;01m%.3g\u001b[39;00m\u001b[38;5;124m'\u001b[39m\u001b[38;5;241m%\u001b[39mm, horizontalalignment\u001b[38;5;241m=\u001b[39m\u001b[38;5;124m'\u001b[39m\u001b[38;5;124mleft\u001b[39m\u001b[38;5;124m'\u001b[39m, verticalalignment\u001b[38;5;241m=\u001b[39m\u001b[38;5;124m'\u001b[39m\u001b[38;5;124mtop\u001b[39m\u001b[38;5;124m'\u001b[39m,\n\u001b[1;32m     20\u001b[0m              fontsize\u001b[38;5;241m=\u001b[39m\u001b[38;5;241m8\u001b[39m, bbox\u001b[38;5;241m=\u001b[39m\u001b[38;5;28mdict\u001b[39m(facecolor\u001b[38;5;241m=\u001b[39m\u001b[38;5;124m'\u001b[39m\u001b[38;5;124mwhite\u001b[39m\u001b[38;5;124m'\u001b[39m, alpha\u001b[38;5;241m=\u001b[39m\u001b[38;5;241m0.8\u001b[39m),\n\u001b[1;32m     21\u001b[0m              rotation\u001b[38;5;241m=\u001b[39m\u001b[38;5;124m'\u001b[39m\u001b[38;5;124m0\u001b[39m\u001b[38;5;124m'\u001b[39m)\n\u001b[1;32m     22\u001b[0m plt\u001b[38;5;241m.\u001b[39mxlim(\u001b[38;5;241m0.\u001b[39m, \u001b[38;5;241m50.\u001b[39m)\n\u001b[1;32m     23\u001b[0m plt\u001b[38;5;241m.\u001b[39mylim(\u001b[38;5;241m1.\u001b[39m, \u001b[38;5;241m50.\u001b[39m)\n",
      "\u001b[0;31mIndexError\u001b[0m: only integers, slices (`:`), ellipsis (`...`), numpy.newaxis (`None`) and integer or boolean arrays are valid indices"
     ]
    },
    {
     "data": {
      "image/png": "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\n",
      "text/plain": [
       "<Figure size 720x576 with 1 Axes>"
      ]
     },
     "metadata": {
      "needs_background": "light"
     },
     "output_type": "display_data"
    }
   ],
=======
   "outputs": [],
>>>>>>> 0e0b86738c9b416512c5eceee1f3d13a8da329be
   "source": [
    "import aerokit.aero.Supersonic as sup\n",
    "\n",
    "fig=plt.figure(1, figsize=(10,8))\n",
    "fig.suptitle('Polar of isentropic compression and Shock-Waves, $\\gamma = %.1f$'%gam, fontsize=12, y=0.93)\n",
    "\n",
    "macharray = [ 1.2, 1.5, 2., 3., 5.]\n",
    "rdev      = np.linspace(0., 50., npoints+1)\n",
    "\n",
    "for m in macharray:\n",
    "    sig  = np.linspace(deg.asin(1./m), 90., npoints+1)\n",
    "    dev  = sw.deflection_Mach_sigma(m, sig, gam)\n",
    "    kpsw = sw.Ps_ratio(m*deg.sin(sig), gam)     # pressure ratio only depends on normal Mach number\n",
    "    rdev = np.linspace(0., .99*sup.PrandtlMeyer_Mach(m, gam), npoints+1)\n",
    "    kpis = sup.IsentropicPsratio_Mach_deflection(m, rdev, gam) \n",
    "    plt.plot(dev,  kpsw, 'k-')\n",
    "    plt.plot(rdev, kpis, 'k--', alpha=0.6)\n",
    "    plt.plot(rdev[-1], kpis[-1], 'ro', alpha=0.5)\n",
    "    plt.text(rdev[-1], kpis[-1], 'M=1', fontsize=7, clip_on='true', horizontalalignment='right') \n",
    "    plt.text(dev[4*npoints/5], kpsw[4*npoints/5], '%.3g'%m, horizontalalignment='left', verticalalignment='top',\n",
    "             fontsize=8, bbox=dict(facecolor='white', alpha=0.8),\n",
    "             rotation='0')\n",
    "plt.xlim(0., 50.)\n",
    "plt.ylim(1., 50.)\n",
    "plt.xlabel('deviation $\\Delta\\\\theta$', fontsize=10)\n",
    "plt.ylabel('pressure ratio through deviation', fontsize=10)\n",
    "plt.yscale('log')\n",
    "plt.minorticks_on()\n",
    "plt.grid(which='major', linestyle='-', alpha=0.8)\n",
    "plt.grid(which='minor', linestyle=':', alpha=0.5)\n"
   ]
  },
  {
   "cell_type": "markdown",
   "id": "compact-notice",
   "metadata": {
    "collapsed": true
   },
   "source": [
    "---\n",
    "\n",
    "<a id=\"ipython\"></a>\n",
    "## Ipython et notebook : usage\n",
    "\n",
    "* le notebook utilise la langage de base python en version améliorée, Ipython, qui permet la complétion des noms (variables, fonctions, modules) avec la touche tabulation\n",
    "* toutes les cellules peuvent être modifiées par un double-clic et sont réinterprêtées avec `shift-entrée`\n",
    "* l'ensemble de la feuille peut être exécutée avec le menu `Cell/run all cells`\n",
    "* **n'oubliez pas de sauvegarder régulièrement votre feuille** (bouton _enregistrer_)\n"
   ]
  },
  {
   "cell_type": "code",
   "execution_count": 7,
   "id": "united-richmond",
   "metadata": {},
<<<<<<< HEAD
   "outputs": [
    {
     "data": {
      "text/html": [
       "\n",
       "<style>\n",
       "\n",
       "div.cell { /* set cell width to about 80 chars */\n",
       "    width: 1100px;\n",
       "}\n",
       "\n",
       "div #notebook { /* centre the content */\n",
       "    background: #fff; /* white background for content */\n",
       "    width: 1200px;\n",
       "    margin: auto;\n",
       "    padding-left: 1em;\n",
       "}\n",
       "\n",
       "/* draw border around running cells */\n",
       "div.cell.border-box-sizing.code_cell.running { \n",
       "    border: 3px solid #111;\n",
       "}\n",
       "\n",
       "/* Put a solid color box around each cell and its output, visually linking them together */\n",
       "div.cell.code_cell {\n",
       "    background-color: #f4f3e0; \n",
       "    border-radius: 10px; /* rounded borders */\n",
       "    padding: 1em;\n",
       "    margin-top: 1em;\n",
       "}\n",
       "\n",
       "\n",
       "div.text_cell_render{\n",
       "    font-family: sans-serif;\n",
       "    line-height: 130%;\n",
       "    font-size: 110%;\n",
       "    width:1000px;\n",
       "    margin-left:auto;\n",
       "    margin-right:auto;\n",
       "}\n",
       "\n",
       "\n",
       "/* Formatting for header cells */\n",
       ".text_cell_render h1 {\n",
       "    font-family: serif;\n",
       "    font-weight: 600;\n",
       "    font-size: 24pt;\n",
       "    line-height: 100%;\n",
       "    color: rgb(12,85,97);\n",
       "    margin-bottom: 0.1em;\n",
       "    margin-top: 0.1em;\n",
       "    display: block;\n",
       "}\t\n",
       ".text_cell_render h2 {\n",
       "    font-family: serif;\n",
       "    font-weight: 700;\n",
       "    font-size: 20pt;\n",
       "    line-height: 100%;\n",
       "    color: rgb(12,85,97);\n",
       "    margin-bottom: 0.1em;\n",
       "    margin-top: 0.1em;\n",
       "    display: block;\n",
       "}\t\n",
       "\n",
       ".text_cell_render h3 {\n",
       "    font-family: serif;\n",
       "    margin-top:12px;\n",
       "    margin-bottom: 3px;\n",
       "    font-style: italic;\n",
       "    color: rgb(12,85,97);\n",
       "}\n",
       "\n",
       ".CodeMirror{\n",
       "    font-family: \"PT Mono\";\n",
       "    font-size: 100%;\n",
       "}\n",
       "\n",
       "</style>\n"
      ],
      "text/plain": [
       "<IPython.core.display.HTML object>"
      ]
     },
     "execution_count": 7,
     "metadata": {},
     "output_type": "execute_result"
    }
   ],
=======
   "outputs": [],
>>>>>>> 0e0b86738c9b416512c5eceee1f3d13a8da329be
   "source": [
    "from IPython.core.display import HTML ; HTML(open(\"./custom.css\", \"r\").read()) # notebook style"
   ]
  },
  {
   "cell_type": "code",
   "execution_count": null,
   "id": "4708bc0c",
   "metadata": {},
   "outputs": [],
   "source": []
  }
 ],
 "metadata": {
  "kernelspec": {
   "display_name": "Python 3 (ipykernel)",
   "language": "python",
   "name": "python3"
  },
  "language_info": {
   "codemirror_mode": {
    "name": "ipython",
    "version": 3
   },
   "file_extension": ".py",
   "mimetype": "text/x-python",
   "name": "python",
   "nbconvert_exporter": "python",
   "pygments_lexer": "ipython3",
   "version": "3.8.10"
  }
 },
 "nbformat": 4,
 "nbformat_minor": 5
}
